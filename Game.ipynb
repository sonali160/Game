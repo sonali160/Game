{
 "cells": [
  {
   "cell_type": "code",
   "execution_count": 2,
   "id": "db404df1",
   "metadata": {},
   "outputs": [
    {
     "name": "stdout",
     "output_type": "stream",
     "text": [
      "enter your guess:55\n",
      "wrong guess,hint=enter smaller number\n",
      "enter your guess:4\n",
      "wrong guess,hint=enter large number\n",
      "enter your guess:47\n",
      "wrong guess,hint=enter smaller number\n",
      "enter your guess:33\n",
      "wrong guess,hint=enter large number\n",
      "enter your guess:35\n",
      "right guess\n",
      "you guessed correct number in 5 guesses\n"
     ]
    }
   ],
   "source": [
    "import random\n",
    "randNumber = random.randint(1,100)\n",
    "userguess=None\n",
    "guesses=0\n",
    "while(userguess != randNumber):\n",
    "    userguess= int(input(\"enter your guess:\"))\n",
    "    guesses += 1\n",
    "    if(userguess==randNumber):\n",
    "        print(\"right guess\")\n",
    "    else:\n",
    "        if(userguess>randNumber):\n",
    "            print(\"wrong guess,hint=enter smaller number\")\n",
    "        else:\n",
    "            print(\"wrong guess,hint=enter large number\")\n",
    "print(f\"you guessed correct number in {guesses} guesses\")\n",
    "with open(\"highscore.txt\",\"r\") as f:\n",
    "    highscore = int(f.read())\n",
    "if(guesses<highscore):\n",
    "    print(\"you have created new highscore\")\n",
    "    with open(\"highscore.txt\",\"w\") as f:\n",
    "        f.write(str(guesses))"
   ]
  },
  {
   "cell_type": "code",
   "execution_count": null,
   "id": "af1f78d1",
   "metadata": {},
   "outputs": [],
   "source": []
  }
 ],
 "metadata": {
  "kernelspec": {
   "display_name": "Python 3 (ipykernel)",
   "language": "python",
   "name": "python3"
  },
  "language_info": {
   "codemirror_mode": {
    "name": "ipython",
    "version": 3
   },
   "file_extension": ".py",
   "mimetype": "text/x-python",
   "name": "python",
   "nbconvert_exporter": "python",
   "pygments_lexer": "ipython3",
   "version": "3.7.3"
  }
 },
 "nbformat": 4,
 "nbformat_minor": 5
}
